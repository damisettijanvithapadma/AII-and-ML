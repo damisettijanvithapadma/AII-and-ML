{
  "nbformat": 4,
  "nbformat_minor": 0,
  "metadata": {
    "colab": {
      "provenance": [],
      "include_colab_link": true
    },
    "kernelspec": {
      "name": "python3",
      "display_name": "Python 3"
    },
    "language_info": {
      "name": "python"
    }
  },
  "cells": [
    {
      "cell_type": "markdown",
      "metadata": {
        "id": "view-in-github",
        "colab_type": "text"
      },
      "source": [
        "<a href=\"https://colab.research.google.com/github/damisettijanvithapadma/AII-and-ML/blob/main/Burnout_Issues_Among_Employees_(1).ipynb\" target=\"_parent\"><img src=\"https://colab.research.google.com/assets/colab-badge.svg\" alt=\"Open In Colab\"/></a>"
      ]
    },
    {
      "cell_type": "code",
      "execution_count": null,
      "metadata": {
        "id": "5qfewiedIaLd"
      },
      "outputs": [],
      "source": [
        "import warnings\n",
        "warnings.filterwarnings('ignore')"
      ]
    },
    {
      "cell_type": "code",
      "source": [
        "import pandas as pd\n",
        "import numpy as np\n",
        "import seaborn as sns\n",
        "import matplotlib.pyplot as plt\n",
        "import plotly.express as px\n",
        "from google.colab import drive\n",
        "drive.mount('/content/employee_burnout_analysis-AI.xlsx')"
      ],
      "metadata": {
        "colab": {
          "base_uri": "https://localhost:8080/",
          "height": 345
        },
        "id": "1MZ2JIm2JKVE",
        "outputId": "92f1b742-2d54-4a2a-fb37-d623c606cadb"
      },
      "execution_count": null,
      "outputs": [
        {
          "output_type": "error",
          "ename": "ValueError",
          "evalue": "ignored",
          "traceback": [
            "\u001b[0;31m---------------------------------------------------------------------------\u001b[0m",
            "\u001b[0;31mValueError\u001b[0m                                Traceback (most recent call last)",
            "\u001b[0;32m<ipython-input-2-c3360bf123bf>\u001b[0m in \u001b[0;36m<cell line: 7>\u001b[0;34m()\u001b[0m\n\u001b[1;32m      5\u001b[0m \u001b[0;32mimport\u001b[0m \u001b[0mplotly\u001b[0m\u001b[0;34m.\u001b[0m\u001b[0mexpress\u001b[0m \u001b[0;32mas\u001b[0m \u001b[0mpx\u001b[0m\u001b[0;34m\u001b[0m\u001b[0;34m\u001b[0m\u001b[0m\n\u001b[1;32m      6\u001b[0m \u001b[0;32mfrom\u001b[0m \u001b[0mgoogle\u001b[0m\u001b[0;34m.\u001b[0m\u001b[0mcolab\u001b[0m \u001b[0;32mimport\u001b[0m \u001b[0mdrive\u001b[0m\u001b[0;34m\u001b[0m\u001b[0;34m\u001b[0m\u001b[0m\n\u001b[0;32m----> 7\u001b[0;31m \u001b[0mdrive\u001b[0m\u001b[0;34m.\u001b[0m\u001b[0mmount\u001b[0m\u001b[0;34m(\u001b[0m\u001b[0;34m'/content/employee_burnout_analysis-AI.xlsx'\u001b[0m\u001b[0;34m)\u001b[0m\u001b[0;34m\u001b[0m\u001b[0;34m\u001b[0m\u001b[0m\n\u001b[0m",
            "\u001b[0;32m/usr/local/lib/python3.10/dist-packages/google/colab/drive.py\u001b[0m in \u001b[0;36mmount\u001b[0;34m(mountpoint, force_remount, timeout_ms, readonly)\u001b[0m\n\u001b[1;32m    101\u001b[0m \u001b[0;32mdef\u001b[0m \u001b[0mmount\u001b[0m\u001b[0;34m(\u001b[0m\u001b[0mmountpoint\u001b[0m\u001b[0;34m,\u001b[0m \u001b[0mforce_remount\u001b[0m\u001b[0;34m=\u001b[0m\u001b[0;32mFalse\u001b[0m\u001b[0;34m,\u001b[0m \u001b[0mtimeout_ms\u001b[0m\u001b[0;34m=\u001b[0m\u001b[0;36m120000\u001b[0m\u001b[0;34m,\u001b[0m \u001b[0mreadonly\u001b[0m\u001b[0;34m=\u001b[0m\u001b[0;32mFalse\u001b[0m\u001b[0;34m)\u001b[0m\u001b[0;34m:\u001b[0m\u001b[0;34m\u001b[0m\u001b[0;34m\u001b[0m\u001b[0m\n\u001b[1;32m    102\u001b[0m   \u001b[0;34m\"\"\"Mount your Google Drive at the specified mountpoint path.\"\"\"\u001b[0m\u001b[0;34m\u001b[0m\u001b[0;34m\u001b[0m\u001b[0m\n\u001b[0;32m--> 103\u001b[0;31m   return _mount(\n\u001b[0m\u001b[1;32m    104\u001b[0m       \u001b[0mmountpoint\u001b[0m\u001b[0;34m,\u001b[0m\u001b[0;34m\u001b[0m\u001b[0;34m\u001b[0m\u001b[0m\n\u001b[1;32m    105\u001b[0m       \u001b[0mforce_remount\u001b[0m\u001b[0;34m=\u001b[0m\u001b[0mforce_remount\u001b[0m\u001b[0;34m,\u001b[0m\u001b[0;34m\u001b[0m\u001b[0;34m\u001b[0m\u001b[0m\n",
            "\u001b[0;32m/usr/local/lib/python3.10/dist-packages/google/colab/drive.py\u001b[0m in \u001b[0;36m_mount\u001b[0;34m(mountpoint, force_remount, timeout_ms, ephemeral, readonly)\u001b[0m\n\u001b[1;32m    192\u001b[0m       \u001b[0;32mraise\u001b[0m \u001b[0mValueError\u001b[0m\u001b[0;34m(\u001b[0m\u001b[0;34m'Mountpoint must not already contain files'\u001b[0m\u001b[0;34m)\u001b[0m\u001b[0;34m\u001b[0m\u001b[0;34m\u001b[0m\u001b[0m\n\u001b[1;32m    193\u001b[0m     \u001b[0;32mif\u001b[0m \u001b[0;32mnot\u001b[0m \u001b[0m_os\u001b[0m\u001b[0;34m.\u001b[0m\u001b[0mpath\u001b[0m\u001b[0;34m.\u001b[0m\u001b[0misdir\u001b[0m\u001b[0;34m(\u001b[0m\u001b[0mmountpoint\u001b[0m\u001b[0;34m)\u001b[0m \u001b[0;32mand\u001b[0m \u001b[0m_os\u001b[0m\u001b[0;34m.\u001b[0m\u001b[0mpath\u001b[0m\u001b[0;34m.\u001b[0m\u001b[0mexists\u001b[0m\u001b[0;34m(\u001b[0m\u001b[0mmountpoint\u001b[0m\u001b[0;34m)\u001b[0m\u001b[0;34m:\u001b[0m\u001b[0;34m\u001b[0m\u001b[0;34m\u001b[0m\u001b[0m\n\u001b[0;32m--> 194\u001b[0;31m       \u001b[0;32mraise\u001b[0m \u001b[0mValueError\u001b[0m\u001b[0;34m(\u001b[0m\u001b[0;34m'Mountpoint must either be a directory or not exist'\u001b[0m\u001b[0;34m)\u001b[0m\u001b[0;34m\u001b[0m\u001b[0;34m\u001b[0m\u001b[0m\n\u001b[0m\u001b[1;32m    195\u001b[0m     \u001b[0mnormed\u001b[0m \u001b[0;34m=\u001b[0m \u001b[0m_os\u001b[0m\u001b[0;34m.\u001b[0m\u001b[0mpath\u001b[0m\u001b[0;34m.\u001b[0m\u001b[0mnormpath\u001b[0m\u001b[0;34m(\u001b[0m\u001b[0mmountpoint\u001b[0m\u001b[0;34m)\u001b[0m\u001b[0;34m\u001b[0m\u001b[0;34m\u001b[0m\u001b[0m\n\u001b[1;32m    196\u001b[0m     \u001b[0;32mif\u001b[0m \u001b[0;34m'/'\u001b[0m \u001b[0;32min\u001b[0m \u001b[0mnormed\u001b[0m \u001b[0;32mand\u001b[0m \u001b[0;32mnot\u001b[0m \u001b[0m_os\u001b[0m\u001b[0;34m.\u001b[0m\u001b[0mpath\u001b[0m\u001b[0;34m.\u001b[0m\u001b[0mexists\u001b[0m\u001b[0;34m(\u001b[0m\u001b[0m_os\u001b[0m\u001b[0;34m.\u001b[0m\u001b[0mpath\u001b[0m\u001b[0;34m.\u001b[0m\u001b[0mdirname\u001b[0m\u001b[0;34m(\u001b[0m\u001b[0mnormed\u001b[0m\u001b[0;34m)\u001b[0m\u001b[0;34m)\u001b[0m\u001b[0;34m:\u001b[0m\u001b[0;34m\u001b[0m\u001b[0;34m\u001b[0m\u001b[0m\n",
            "\u001b[0;31mValueError\u001b[0m: Mountpoint must either be a directory or not exist"
          ]
        }
      ]
    },
    {
      "cell_type": "code",
      "source": [
        "from google.colab import drive\n",
        "drive.mount('/content/drive')"
      ],
      "metadata": {
        "colab": {
          "base_uri": "https://localhost:8080/"
        },
        "id": "6cMzAAi6DlT4",
        "outputId": "a0e8299d-f33b-4274-af7c-0c19cd1e66c4"
      },
      "execution_count": null,
      "outputs": [
        {
          "output_type": "stream",
          "name": "stdout",
          "text": [
            "Mounted at /content/drive\n"
          ]
        }
      ]
    },
    {
      "cell_type": "code",
      "source": [
        "pd.set_option('display.max_columns',None)\n",
        "burnoutDf=pd.read_csv('/content/drive/MyDrive/employee_burnout_analysis.csv')\n",
        "burnoutDf"
      ],
      "metadata": {
        "id": "Lql9hIckJqhv"
      },
      "execution_count": null,
      "outputs": []
    },
    {
      "cell_type": "code",
      "source": [
        "burnoutDf[\"Date of Joining\"]=pd.to_datetime(burnoutDf[\"Date of Joining\"])"
      ],
      "metadata": {
        "id": "DhpDGCkWLBsz"
      },
      "execution_count": null,
      "outputs": []
    },
    {
      "cell_type": "code",
      "source": [
        "burnoutDf.shape"
      ],
      "metadata": {
        "id": "h34x9W_TMIRB"
      },
      "execution_count": null,
      "outputs": []
    },
    {
      "cell_type": "code",
      "source": [
        "burnoutDf.info()"
      ],
      "metadata": {
        "id": "wOBRRLG8MV_f"
      },
      "execution_count": null,
      "outputs": []
    },
    {
      "cell_type": "code",
      "source": [
        "burnoutDf.head()"
      ],
      "metadata": {
        "id": "eH9lKLmtMWEy"
      },
      "execution_count": null,
      "outputs": []
    },
    {
      "cell_type": "code",
      "source": [
        "burnoutDf.columns"
      ],
      "metadata": {
        "id": "UgTryEqIOAi7"
      },
      "execution_count": null,
      "outputs": []
    },
    {
      "cell_type": "code",
      "source": [
        "burnoutDf.isna().sum()"
      ],
      "metadata": {
        "id": "HESHrvRsPBCf"
      },
      "execution_count": null,
      "outputs": []
    },
    {
      "cell_type": "code",
      "source": [
        "burnoutDf.duplicated().sum()"
      ],
      "metadata": {
        "id": "TE2nxLoKPEW9"
      },
      "execution_count": null,
      "outputs": []
    },
    {
      "cell_type": "code",
      "source": [
        "burnoutDf.describe()"
      ],
      "metadata": {
        "id": "U45IrUy1PMFB"
      },
      "execution_count": null,
      "outputs": []
    },
    {
      "cell_type": "code",
      "source": [
        "for i,col in enumerate(burnoutDf.columns):\n",
        "  print(f\"\\n\\n{burnoutDf[col].unique()}\")\n",
        "  print(f\"\\n\\n{burnoutDf[col].value_counts()}\\n\\n\")"
      ],
      "metadata": {
        "id": "hd4aLhErPYU6"
      },
      "execution_count": null,
      "outputs": []
    },
    {
      "cell_type": "code",
      "source": [
        "burnoutDf=burnoutDf.drop(['Employee ID'],axis=1)"
      ],
      "metadata": {
        "id": "LAgEo4BZSxOC"
      },
      "execution_count": null,
      "outputs": []
    },
    {
      "cell_type": "code",
      "source": [
        "intFloatburnoutDf=burnoutDf.select_dtypes([np.int,np.float])\n",
        "for i,col in enumerate(intFloatburnoutDf.columns):\n",
        "  if(intFloatburnoutDf[col].skew()>=0.1):\n",
        "    print(\"\\n\",col, \"feature is Positively Skewed and value is:\",intFloatburnoutDf[col].skew())\n",
        "  elif(intFloatburnoutDf[col].skew()<=-0.1):\n",
        "    print(\"\\n\",col, \"feature is negatively Skewed and value is:\",intFloatburnoutDf[col].skew())\n",
        "  else:\n",
        "    print(\"\\n\",col, \"feature is Normally distributed and value is:\",intFloatburnoutDf[col].skew())\n"
      ],
      "metadata": {
        "id": "H74ZRT-eTEgZ"
      },
      "execution_count": null,
      "outputs": []
    },
    {
      "cell_type": "code",
      "source": [
        "burnoutDf['Resource Allocation'].fillna(burnoutDf['Resource Allocation'].mean(),inplace=True)\n",
        "burnoutDf['Mental Fatigue Score'].fillna(burnoutDf['Mental Fatigue Score'].mean(),inplace=True)\n",
        "burnoutDf['Burn Rate'].fillna(burnoutDf['Burn Rate'].mean(),inplace=True)"
      ],
      "metadata": {
        "id": "IKK5znuibMXA"
      },
      "execution_count": null,
      "outputs": []
    },
    {
      "cell_type": "code",
      "source": [
        "burnoutDf.isna().sum()"
      ],
      "metadata": {
        "id": "NsUeYVqjbnf5"
      },
      "execution_count": null,
      "outputs": []
    },
    {
      "cell_type": "code",
      "source": [
        "burnoutDf.corr()"
      ],
      "metadata": {
        "id": "i0jNfvmVQZe3"
      },
      "execution_count": null,
      "outputs": []
    },
    {
      "cell_type": "code",
      "source": [
        "corr=burnoutDf.corr()\n",
        "sns.set(rc={'figure.figsize':(14,12)})\n",
        "fig=px.imshow(corr,text_auto=True,aspect=\"auto\")\n",
        "fig.show()"
      ],
      "metadata": {
        "id": "Mzbn5r_Kc2Fj"
      },
      "execution_count": null,
      "outputs": []
    },
    {
      "cell_type": "code",
      "source": [
        "plt.figure(figsize=(10,8))\n",
        "sns.countplot(x=\"Gender\",data=burnoutDf,palette=\"magma\")\n",
        "plt.title(\"plot Distribution of Gender\")\n",
        "plt.show()"
      ],
      "metadata": {
        "id": "pmv0vFudeK_H"
      },
      "execution_count": null,
      "outputs": []
    },
    {
      "cell_type": "code",
      "source": [
        "plt.figure(figsize=(10,8))\n",
        "sns.countplot(x=\"Company Type\",data=burnoutDf,palette=\"Spectral\")\n",
        "plt.title(\"plot Distribution of Company Type\")\n",
        "plt.show()"
      ],
      "metadata": {
        "id": "jUriXh92fbbg"
      },
      "execution_count": null,
      "outputs": []
    },
    {
      "cell_type": "code",
      "source": [
        "plt.figure(figsize=(10,8))\n",
        "sns.countplot(x=\"WFH Setup Available\",data=burnoutDf,palette=\"dark:Salmon_r\")\n",
        "plt.title(\"plot Distribution of WFH_Setup_Available\")\n",
        "plt.show()"
      ],
      "metadata": {
        "id": "BIBshfF4f0dW"
      },
      "execution_count": null,
      "outputs": []
    },
    {
      "cell_type": "code",
      "source": [
        "burn_st=burnoutDf.loc[:, 'Date of Joining': 'Burn Rate']\n",
        "burn_st=burn_st.select_dtypes([int, float])\n",
        "for i, col in enumerate(burn_st.columns):\n",
        "  fig = px.histogram(burn_st, x=col, title=\"Plot Distribution of \"+col, color_discrete_sequence=['indianred'])\n",
        "  fig.update_layout (bargap=0.2)\n",
        "  fig.show()"
      ],
      "metadata": {
        "id": "TSVH8FolfPQw"
      },
      "execution_count": null,
      "outputs": []
    },
    {
      "cell_type": "code",
      "source": [
        "fig = px.line(burnoutDf, y=\"Burn Rate\", color=\"Designation\", title=\"Burn rate on the basis of Designation\",color_discrete_sequence=px.colors.qualitative.Pastel1)\n",
        "fig.update_layout(bargap=0.1)\n",
        "fig.show()"
      ],
      "metadata": {
        "id": "UVrW3QK5LcpX"
      },
      "execution_count": null,
      "outputs": []
    },
    {
      "cell_type": "code",
      "source": [
        "fig = px.line(burnoutDf, y=\"Burn Rate\", color=\"Gender\", title=\"Burn rate on the basis of Gender\",color_discrete_sequence=px.colors.qualitative.Pastel1)\n",
        "fig.update_layout(bargap=0.2)\n",
        "fig.show()"
      ],
      "metadata": {
        "id": "nUfQ39xufzzs"
      },
      "execution_count": null,
      "outputs": []
    },
    {
      "cell_type": "code",
      "source": [
        "fig = px.line(burnoutDf, y=\"Mental Fatigue Score\", color=\"Designation\", title=\"Mental Fatigue Score vs  Designation\",color_discrete_sequence=px.colors.qualitative.Pastel1)\n",
        "fig.update_layout(bargap=0.1)\n",
        "fig.show()"
      ],
      "metadata": {
        "id": "94vYqL1ghjZB"
      },
      "execution_count": null,
      "outputs": []
    },
    {
      "cell_type": "code",
      "source": [
        "sns.relplot(\n",
        "  data = burnoutDf, x=\"Designation\", y=\"Mental Fatigue Score\", col=\"Company Type\",\n",
        "  hue=\"Company Type\",size=\"Burn Rate\", style=\"Gender\",\n",
        "  palette=[\"g\",\"r\"],sizes=(50,200)\n",
        ")"
      ],
      "metadata": {
        "id": "7TEDbtWwp320"
      },
      "execution_count": null,
      "outputs": []
    },
    {
      "cell_type": "code",
      "source": [
        "from sklearn import preprocessing\n",
        "Label_encode=preprocessing.LabelEncoder()"
      ],
      "metadata": {
        "id": "ZrphnImOvcjM"
      },
      "execution_count": null,
      "outputs": []
    },
    {
      "cell_type": "code",
      "source": [
        "burnoutDf['GenderLabel']=Label_encode.fit_transform(burnoutDf['Gender'].values)\n",
        "burnoutDf['Company_TypeLabel']=Label_encode.fit_transform(burnoutDf['Company Type'].values)\n",
        "burnoutDf['WFH_Setup_AvailableLabel']=Label_encode.fit_transform(burnoutDf['WFH Setup Available'].values)"
      ],
      "metadata": {
        "id": "vprZ1iu544_i"
      },
      "execution_count": null,
      "outputs": []
    },
    {
      "cell_type": "code",
      "source": [
        "gn=burnoutDf.groupby('Gender')\n",
        "gn=gn['GenderLabel']\n",
        "gn.first()"
      ],
      "metadata": {
        "id": "jz7fs5Rf5u77"
      },
      "execution_count": null,
      "outputs": []
    },
    {
      "cell_type": "code",
      "source": [
        "ct=burnoutDf.groupby('Company Type')\n",
        "ct=ct['Company_TypeLabel']\n",
        "ct.first()\n"
      ],
      "metadata": {
        "id": "ZhIcBqWp6OI-"
      },
      "execution_count": null,
      "outputs": []
    },
    {
      "cell_type": "code",
      "source": [
        "wsa=burnoutDf.groupby('WFH Setup Available')\n",
        "wsa=wsa['WFH_Setup_AvailableLabel']\n",
        "wsa.first()"
      ],
      "metadata": {
        "id": "r-trjqNb6nTz"
      },
      "execution_count": null,
      "outputs": []
    },
    {
      "cell_type": "code",
      "source": [
        "burnoutDf.tail(10)"
      ],
      "metadata": {
        "id": "xYNCLaTv7C4A"
      },
      "execution_count": null,
      "outputs": []
    },
    {
      "cell_type": "code",
      "source": [
        "Columns=['Designation','Resource Allocation','Mental Fatigue Score','GenderLabel','Company_TypeLabel','WFH_Setup_AvailableLabel']\n",
        "X=burnoutDf[Columns]\n",
        "y=burnoutDf['Burn Rate']"
      ],
      "metadata": {
        "id": "kwsaUln37Pjv"
      },
      "execution_count": null,
      "outputs": []
    },
    {
      "cell_type": "code",
      "source": [
        "print(X)"
      ],
      "metadata": {
        "id": "Lsm2uTyi-f6G"
      },
      "execution_count": null,
      "outputs": []
    },
    {
      "cell_type": "code",
      "source": [
        "print(y)"
      ],
      "metadata": {
        "id": "ONNrU1i2-i9Z"
      },
      "execution_count": null,
      "outputs": []
    },
    {
      "cell_type": "code",
      "source": [
        "from sklearn.decomposition import PCA\n",
        "pca=PCA(0.95)\n",
        "X_pca=pca.fit_transform(X)\n",
        "print(\"PCA shape of x is: \",X_pca.shape, \"and orignal shape is: \", X.shape)\n",
        "print(\"% of importance of selected features is:\", pca.explained_variance_ratio_)\n",
        "print(\"The number of features selected through PCA is:\", pca.n_components_)"
      ],
      "metadata": {
        "id": "5-eNRCuR-mxM"
      },
      "execution_count": null,
      "outputs": []
    },
    {
      "cell_type": "code",
      "source": [
        "from sklearn.model_selection import train_test_split\n",
        "X_train_pca,X_test,Y_train,Y_test=train_test_split(X_pca,y,test_size=0.25,random_state=10)"
      ],
      "metadata": {
        "id": "AaJ_8pr2_j6U"
      },
      "execution_count": null,
      "outputs": []
    },
    {
      "cell_type": "code",
      "source": [
        "print(X_train_pca.shape,X_test.shape,Y_train.shape,Y_test.shape)"
      ],
      "metadata": {
        "id": "xejOHKpOF0cs"
      },
      "execution_count": null,
      "outputs": []
    },
    {
      "cell_type": "code",
      "source": [
        "from sklearn.metrics import r2_score"
      ],
      "metadata": {
        "id": "KggLwI3EGILN"
      },
      "execution_count": null,
      "outputs": []
    },
    {
      "cell_type": "code",
      "source": [
        "from sklearn.ensemble import RandomForestRegressor\n",
        "rf_model = RandomForestRegressor()\n",
        "rf_model.fit(X_train_pca, Y_train)\n",
        "train_pred_rf = rf_model.predict(X_train_pca)\n",
        "train_r2=r2_score(Y_train, train_pred_rf)\n",
        "test_pred_rf=rf_model.predict(X_test)\n",
        "test_r2=r2_score(Y_test,test_pred_rf)\n",
        "#Accuracy score\n",
        "print(\"Accuracy score of tarin data: \"+str(round(100*train_r2, 4))+\" %\")\n",
        "print(\"Accuracy score of test data: \"+str(round(100*test_r2,4))+\" %\")"
      ],
      "metadata": {
        "id": "6u7zsTfeG0lx"
      },
      "execution_count": null,
      "outputs": []
    },
    {
      "cell_type": "code",
      "source": [
        "from sklearn.ensemble import AdaBoostRegressor\n",
        "abr_model = AdaBoostRegressor()\n",
        "abr_model.fit(X_train_pca, Y_train)\n",
        "train_pred_adaboost = abr_model.predict(X_train_pca)\n",
        "train_r2=r2_score(Y_train, train_pred_adaboost)\n",
        "test_pred_adaboost=abr_model.predict(X_test)\n",
        "test_r2=r2_score(Y_test,test_pred_adaboost)\n",
        "#Accuracy score\n",
        "print(\"Accuracy score of tarin data: \"+str(round(100*train_r2, 4))+\" %\")\n",
        "print(\"Accuracy score of test data: \"+str(round(100*test_r2,4))+\" %\")"
      ],
      "metadata": {
        "id": "-fA0WXJ8InAl"
      },
      "execution_count": null,
      "outputs": []
    },
    {
      "cell_type": "code",
      "source": [
        "burnoutDf"
      ],
      "metadata": {
        "id": "sm2Ny4qoJS_b"
      },
      "execution_count": null,
      "outputs": []
    }
  ]
}